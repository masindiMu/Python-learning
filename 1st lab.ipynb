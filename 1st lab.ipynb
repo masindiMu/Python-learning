{
 "cells": [
  {
   "cell_type": "code",
   "execution_count": 2,
   "metadata": {},
   "outputs": [
    {
     "name": "stdout",
     "output_type": "stream",
     "text": [
      "Enter your first name:Masindi\n",
      "Hello Masindi "
     ]
    }
   ],
   "source": [
    "first_name= input(\"Enter your first name:\" )\n",
    "print(f\"Hello {first_name}\", end=\" \")"
   ]
  },
  {
   "cell_type": "code",
   "execution_count": 7,
   "metadata": {},
   "outputs": [
    {
     "name": "stdout",
     "output_type": "stream",
     "text": [
      "5 + 10 = 15 "
     ]
    }
   ],
   "source": [
    "x = 5\n",
    "y = 10\n",
    "total = x + y\n",
    "print(f\"{x} + {y} = {total}\", end = \" \")"
   ]
  },
  {
   "cell_type": "code",
   "execution_count": 12,
   "metadata": {},
   "outputs": [
    {
     "name": "stdout",
     "output_type": "stream",
     "text": [
      "10.5 * 4.0 = 42.0 \n",
      "\n",
      "27\n"
     ]
    }
   ],
   "source": [
    "a = 10.5\n",
    "b= 4.0\n",
    "product = a * b\n",
    "print(f\"{a} * {b} = {product}\", end = \" \")\n",
    "print(\"\\n\")\n",
    "print(int(product - total))"
   ]
  },
  {
   "cell_type": "code",
   "execution_count": null,
   "metadata": {},
   "outputs": [],
   "source": []
  },
  {
   "cell_type": "code",
   "execution_count": null,
   "metadata": {},
   "outputs": [],
   "source": []
  }
 ],
 "metadata": {
  "kernelspec": {
   "display_name": "Python 3",
   "language": "python",
   "name": "python3"
  },
  "language_info": {
   "codemirror_mode": {
    "name": "ipython",
    "version": 3
   },
   "file_extension": ".py",
   "mimetype": "text/x-python",
   "name": "python",
   "nbconvert_exporter": "python",
   "pygments_lexer": "ipython3",
   "version": "3.8.3"
  }
 },
 "nbformat": 4,
 "nbformat_minor": 4
}
