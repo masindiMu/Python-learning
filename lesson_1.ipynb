{
 "cells": [
  {
   "cell_type": "code",
   "execution_count": 14,
   "metadata": {},
   "outputs": [
    {
     "name": "stdout",
     "output_type": "stream",
     "text": [
      "Hello Masindi\n"
     ]
    }
   ],
   "source": [
    "message = 'Hello Masindi'\n",
    "print(message)"
   ]
  },
  {
   "cell_type": "code",
   "execution_count": 15,
   "metadata": {},
   "outputs": [
    {
     "name": "stdout",
     "output_type": "stream",
     "text": [
      "Masindi's house\n",
      "Masindi's house\n",
      "Masindi's house is\n",
      "by the corner\n",
      "15\n",
      "e\n",
      "Hello\n",
      "Hello\n",
      "Masindi\n"
     ]
    }
   ],
   "source": [
    "mani = 'Masindi\\'s house'\n",
    "mani2 = \"Masindi's house\"\n",
    "mani3 = \"\"\"Masindi's house is\n",
    "by the corner\"\"\"\n",
    "\n",
    "print(mani)\n",
    "print(mani2)\n",
    "print(mani3)\n",
    "print(len(mani))\n",
    "\n",
    "#indexing and slicing\n",
    "print(message[1])\n",
    "print(message[0:5])\n",
    "print(message[:5])\n",
    "print(message[6:])"
   ]
  },
  {
   "cell_type": "code",
   "execution_count": 17,
   "metadata": {},
   "outputs": [
    {
     "name": "stdout",
     "output_type": "stream",
     "text": [
      "hello masindi\n",
      "HELLO MASINDI\n"
     ]
    }
   ],
   "source": [
    "print(message.lower())\n",
    "print(message.upper())"
   ]
  },
  {
   "cell_type": "code",
   "execution_count": null,
   "metadata": {},
   "outputs": [],
   "source": []
  }
 ],
 "metadata": {
  "kernelspec": {
   "display_name": "Python 3",
   "language": "python",
   "name": "python3"
  },
  "language_info": {
   "codemirror_mode": {
    "name": "ipython",
    "version": 3
   },
   "file_extension": ".py",
   "mimetype": "text/x-python",
   "name": "python",
   "nbconvert_exporter": "python",
   "pygments_lexer": "ipython3",
   "version": "3.8.3"
  }
 },
 "nbformat": 4,
 "nbformat_minor": 4
}
