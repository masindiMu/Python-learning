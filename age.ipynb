{
 "cells": [
  {
   "cell_type": "code",
   "execution_count": 18,
   "metadata": {},
   "outputs": [
    {
     "name": "stdout",
     "output_type": "stream",
     "text": [
      "What year were you born?2002\n",
      "What year is it?2024\n",
      "22\n",
      "You are 22 years old. "
     ]
    }
   ],
   "source": [
    "year_born= int(input('What year were you born?'))\n",
    "current_year= int(input('What year is it?'))\n",
    "age = int(current_year - year_born)\n",
    "\n",
    "\n",
    "print(age)\n",
    "print(f\"You are {age} years old.\", end=\" \")"
   ]
  },
  {
   "cell_type": "code",
   "execution_count": 36,
   "metadata": {},
   "outputs": [
    {
     "name": "stdout",
     "output_type": "stream",
     "text": [
      "What is the radius of the circle? 11\n",
      "\n",
      "\n",
      "The area of a circle with radius 11 is 380.13239!"
     ]
    }
   ],
   "source": [
    "radius = int(input(\"What is the radius of the circle? \"))\n",
    "pi = 3.14159\n",
    "area= radius**2 * pi\n",
    "print(\"\\n\")\n",
    "print(f\"The area of a circle with radius {radius} is {area}\", end = \"!\")"
   ]
  },
  {
   "cell_type": "code",
   "execution_count": 26,
   "metadata": {},
   "outputs": [
    {
     "name": "stdout",
     "output_type": "stream",
     "text": [
      "what is the circle radius? 11\n",
      "The area of a circle with radius 11 is 380!"
     ]
    }
   ],
   "source": [
    "circle_radius = int(input(\"what is the circle radius? \"))\n",
    "PI = 3.14159\n",
    "area = PI * (circle_radius ** 2)\n",
    "print(\"The area of a circle with radius\", circle_radius, \"is\", int(area), end=\"!\")\n"
   ]
  }
 ],
 "metadata": {
  "kernelspec": {
   "display_name": "Python 3",
   "language": "python",
   "name": "python3"
  },
  "language_info": {
   "codemirror_mode": {
    "name": "ipython",
    "version": 3
   },
   "file_extension": ".py",
   "mimetype": "text/x-python",
   "name": "python",
   "nbconvert_exporter": "python",
   "pygments_lexer": "ipython3",
   "version": "3.8.3"
  }
 },
 "nbformat": 4,
 "nbformat_minor": 4
}
